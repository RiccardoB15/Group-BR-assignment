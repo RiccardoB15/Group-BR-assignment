{
 "cells": [
  {
   "cell_type": "markdown",
   "metadata": {},
   "source": [
    "# Update Dataset"
   ]
  },
  {
   "cell_type": "markdown",
   "metadata": {},
   "source": [
    "Imports:"
   ]
  },
  {
   "cell_type": "code",
   "execution_count": null,
   "metadata": {},
   "outputs": [],
   "source": [
    "import requests\n",
    "import pandas as pd"
   ]
  },
  {
   "cell_type": "markdown",
   "metadata": {},
   "source": [
    "Define API endpoints:"
   ]
  },
  {
   "cell_type": "code",
   "execution_count": null,
   "metadata": {},
   "outputs": [],
   "source": [
    "url = 'http://dataservices.imf.org/REST/SDMX_JSON.svc/'\n",
    "keys = ['CompactData/IFS/M.GB.PMP_IX', 'CompactData/IFS/Q.AU.PMP_IX'] # UK, AU import datasets\n",
    "trailer = '.?startPeriod=1957&endPeriod=2016'"
   ]
  },
  {
   "cell_type": "markdown",
   "metadata": {},
   "source": [
    "Download data from IMF database:"
   ]
  },
  {
   "cell_type": "code",
   "execution_count": null,
   "metadata": {},
   "outputs": [],
   "source": [
    "datasets = []\n",
    "\n",
    "for key in keys:\n",
    "    data = (requests.get(f'{url}{key}{trailer}').json()\n",
    "        ['CompactData']['DataSet']['Series'])\n",
    "\n",
    "    baseyr = data['@BASE_YEAR']\n",
    "\n",
    "    data_list = [[obs.get('@TIME_PERIOD'), obs.get('@OBS_VALUE')] for obs in data['Obs']]\n",
    "\n",
    "    df = pd.DataFrame(data_list, columns=['date', 'value'])\n",
    "    df = df.set_index(pd.to_datetime(df['date']))['value'].astype('float')\n",
    "    datasets.append(df)"
   ]
  },
  {
   "cell_type": "markdown",
   "metadata": {},
   "source": [
    "Draw line plot:"
   ]
  },
  {
   "cell_type": "code",
   "execution_count": null,
   "metadata": {},
   "outputs": [],
   "source": [
    "df = datasets[0] \n",
    "title = f'Import Prices'\n",
    "recentdt = df.index[-1].strftime('%B %Y')\n",
    "recentval = round(df[-1], 1)\n",
    "recent = f'Most recent: {recentdt}: {recentval}'\n",
    "source = 'Source: IMF IFS'\n",
    "\n",
    "plot0 = df.plot(title=title,  label='UK', colormap='Set1')\n",
    "plot0.set_xlabel(f'{recent}; {source}')\n",
    "\n",
    "df = datasets[1]\n",
    "\n",
    "plot1 = df.plot(title=title, label='AU', colormap='gray')\n",
    "plot1.set_xlabel(f'{recent}; {source}')\n",
    "\n",
    "plt.legend()\n",
    "plt.show()"
   ]
  },
  {
   "cell_type": "markdown",
   "metadata": {},
   "source": [
    "Draw histogram plot:"
   ]
  },
  {
   "cell_type": "code",
   "execution_count": null,
   "metadata": {},
   "outputs": [],
   "source": [
    "hist = df.hist(bins=30, color='#228B22', rwidth=0.85)\n",
    "plt.title(\"Import volumes distribution (AU)\")\n",
    "plt.xlabel('Volume (USD millions)')\n",
    "plt.ylabel('Frequency')\n",
    "plt.show()"
   ]
  },
  {
   "cell_type": "code",
   "execution_count": null,
   "metadata": {},
   "outputs": [],
   "source": []
  }
 ],
 "metadata": {
  "kernelspec": {
   "display_name": "Python 3",
   "language": "python",
   "name": "python3"
  },
  "language_info": {
   "codemirror_mode": {
    "name": "ipython",
    "version": 3
   },
   "file_extension": ".py",
   "mimetype": "text/x-python",
   "name": "python",
   "nbconvert_exporter": "python",
   "pygments_lexer": "ipython3",
   "version": "3.8.3"
  }
 },
 "nbformat": 4,
 "nbformat_minor": 1
}
